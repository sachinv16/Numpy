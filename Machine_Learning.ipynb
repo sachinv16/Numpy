{
  "cells": [
    {
      "cell_type": "markdown",
      "metadata": {
        "id": "view-in-github",
        "colab_type": "text"
      },
      "source": [
        "<a href=\"https://colab.research.google.com/github/sachinv16/Numpy/blob/main/Machine_Learning.ipynb\" target=\"_parent\"><img src=\"https://colab.research.google.com/assets/colab-badge.svg\" alt=\"Open In Colab\"/></a>"
      ]
    },
    {
      "cell_type": "code",
      "execution_count": 1,
      "id": "4393ea11-4581-4c20-a25a-93b406759530",
      "metadata": {
        "id": "4393ea11-4581-4c20-a25a-93b406759530"
      },
      "outputs": [],
      "source": [
        "import numpy as np , pandas as pd\n",
        "import matplotlib.pyplot as plt , seaborn as sns\n",
        "from sklearn import linear_model"
      ]
    },
    {
      "cell_type": "code",
      "execution_count": null,
      "id": "2f4fadb4-a7ec-4aeb-b6ba-f925d83317be",
      "metadata": {
        "id": "2f4fadb4-a7ec-4aeb-b6ba-f925d83317be",
        "outputId": "16522892-dc1c-46e6-df63-2a05545b73a1"
      },
      "outputs": [
        {
          "data": {
            "text/html": [
              "<div><div id=bd3cdd20-4515-4028-a65d-ee30f595289e style=\"display:none; background-color:#9D6CFF; color:white; width:200px; height:30px; padding-left:5px; border-radius:4px; flex-direction:row; justify-content:space-around; align-items:center;\" onmouseover=\"this.style.backgroundColor='#BA9BF8'\" onmouseout=\"this.style.backgroundColor='#9D6CFF'\" onclick=\"window.commands?.execute('create-mitosheet-from-dataframe-output');\">See Full Dataframe in Mito</div> <script> if (window.commands.hasCommand('create-mitosheet-from-dataframe-output')) document.getElementById('bd3cdd20-4515-4028-a65d-ee30f595289e').style.display = 'flex' </script> <table border=\"1\" class=\"dataframe\">\n",
              "  <thead>\n",
              "    <tr style=\"text-align: right;\">\n",
              "      <th></th>\n",
              "      <th>area</th>\n",
              "      <th>bedrooms</th>\n",
              "      <th>age</th>\n",
              "      <th>price</th>\n",
              "    </tr>\n",
              "  </thead>\n",
              "  <tbody>\n",
              "    <tr>\n",
              "      <th>0</th>\n",
              "      <td>2600</td>\n",
              "      <td>3.0</td>\n",
              "      <td>20</td>\n",
              "      <td>550000</td>\n",
              "    </tr>\n",
              "    <tr>\n",
              "      <th>1</th>\n",
              "      <td>3000</td>\n",
              "      <td>4.0</td>\n",
              "      <td>15</td>\n",
              "      <td>565000</td>\n",
              "    </tr>\n",
              "    <tr>\n",
              "      <th>2</th>\n",
              "      <td>3200</td>\n",
              "      <td>NaN</td>\n",
              "      <td>18</td>\n",
              "      <td>610000</td>\n",
              "    </tr>\n",
              "    <tr>\n",
              "      <th>3</th>\n",
              "      <td>3600</td>\n",
              "      <td>3.0</td>\n",
              "      <td>30</td>\n",
              "      <td>595000</td>\n",
              "    </tr>\n",
              "    <tr>\n",
              "      <th>4</th>\n",
              "      <td>4000</td>\n",
              "      <td>5.0</td>\n",
              "      <td>8</td>\n",
              "      <td>760000</td>\n",
              "    </tr>\n",
              "  </tbody>\n",
              "</table></div>"
            ],
            "text/plain": [
              "   area  bedrooms  age   price\n",
              "0  2600       3.0   20  550000\n",
              "1  3000       4.0   15  565000\n",
              "2  3200       NaN   18  610000\n",
              "3  3600       3.0   30  595000\n",
              "4  4000       5.0    8  760000"
            ]
          },
          "execution_count": 24,
          "metadata": {},
          "output_type": "execute_result"
        }
      ],
      "source": [
        "df = pd.read_csv(\"Homepricenew2.csv\")\n",
        "df.head()"
      ]
    },
    {
      "cell_type": "code",
      "execution_count": null,
      "id": "31fbf32b-7063-455c-a0bd-fcb47772e9b6",
      "metadata": {
        "id": "31fbf32b-7063-455c-a0bd-fcb47772e9b6",
        "outputId": "64d4b5a3-2233-4af0-f0e2-b221b7f5e45b"
      },
      "outputs": [
        {
          "data": {
            "text/plain": [
              "4.0"
            ]
          },
          "execution_count": 25,
          "metadata": {},
          "output_type": "execute_result"
        }
      ],
      "source": [
        "import math\n",
        "df.bedrooms.median()"
      ]
    },
    {
      "cell_type": "code",
      "execution_count": null,
      "id": "1907c7f4-c383-4456-bd80-fac28f163504",
      "metadata": {
        "id": "1907c7f4-c383-4456-bd80-fac28f163504",
        "outputId": "8c69eda6-783b-4bdd-a52b-a30a94d57ee0"
      },
      "outputs": [
        {
          "data": {
            "text/html": [
              "<div><div id=92776eb4-48c9-482d-ab0f-d733e8c92af0 style=\"display:none; background-color:#9D6CFF; color:white; width:200px; height:30px; padding-left:5px; border-radius:4px; flex-direction:row; justify-content:space-around; align-items:center;\" onmouseover=\"this.style.backgroundColor='#BA9BF8'\" onmouseout=\"this.style.backgroundColor='#9D6CFF'\" onclick=\"window.commands?.execute('create-mitosheet-from-dataframe-output');\">See Full Dataframe in Mito</div> <script> if (window.commands.hasCommand('create-mitosheet-from-dataframe-output')) document.getElementById('92776eb4-48c9-482d-ab0f-d733e8c92af0').style.display = 'flex' </script> <table border=\"1\" class=\"dataframe\">\n",
              "  <thead>\n",
              "    <tr style=\"text-align: right;\">\n",
              "      <th></th>\n",
              "      <th>area</th>\n",
              "      <th>bedrooms</th>\n",
              "      <th>age</th>\n",
              "      <th>price</th>\n",
              "    </tr>\n",
              "  </thead>\n",
              "  <tbody>\n",
              "    <tr>\n",
              "      <th>0</th>\n",
              "      <td>2600</td>\n",
              "      <td>3.0</td>\n",
              "      <td>20</td>\n",
              "      <td>550000</td>\n",
              "    </tr>\n",
              "    <tr>\n",
              "      <th>1</th>\n",
              "      <td>3000</td>\n",
              "      <td>4.0</td>\n",
              "      <td>15</td>\n",
              "      <td>565000</td>\n",
              "    </tr>\n",
              "    <tr>\n",
              "      <th>2</th>\n",
              "      <td>3200</td>\n",
              "      <td>4.0</td>\n",
              "      <td>18</td>\n",
              "      <td>610000</td>\n",
              "    </tr>\n",
              "    <tr>\n",
              "      <th>3</th>\n",
              "      <td>3600</td>\n",
              "      <td>3.0</td>\n",
              "      <td>30</td>\n",
              "      <td>595000</td>\n",
              "    </tr>\n",
              "    <tr>\n",
              "      <th>4</th>\n",
              "      <td>4000</td>\n",
              "      <td>5.0</td>\n",
              "      <td>8</td>\n",
              "      <td>760000</td>\n",
              "    </tr>\n",
              "  </tbody>\n",
              "</table></div>"
            ],
            "text/plain": [
              "   area  bedrooms  age   price\n",
              "0  2600       3.0   20  550000\n",
              "1  3000       4.0   15  565000\n",
              "2  3200       4.0   18  610000\n",
              "3  3600       3.0   30  595000\n",
              "4  4000       5.0    8  760000"
            ]
          },
          "execution_count": 26,
          "metadata": {},
          "output_type": "execute_result"
        }
      ],
      "source": [
        "df.bedrooms = df.bedrooms.fillna(df.bedrooms.median())\n",
        "df.head()"
      ]
    },
    {
      "cell_type": "code",
      "execution_count": null,
      "id": "7e05b8a7-2462-4f03-9106-3ea6d99b68c7",
      "metadata": {
        "id": "7e05b8a7-2462-4f03-9106-3ea6d99b68c7"
      },
      "outputs": [],
      "source": [
        "model = linear_model.LinearRegression()"
      ]
    },
    {
      "cell_type": "code",
      "execution_count": null,
      "id": "93807f7a-4a6f-435a-9670-750e07236ab2",
      "metadata": {
        "id": "93807f7a-4a6f-435a-9670-750e07236ab2",
        "outputId": "732ca2d1-47e9-4eaf-83fa-a4c82c0b64c3"
      },
      "outputs": [
        {
          "data": {
            "text/plain": [
              "LinearRegression()"
            ]
          },
          "execution_count": 28,
          "metadata": {},
          "output_type": "execute_result"
        }
      ],
      "source": [
        "model.fit(df.drop('price',axis=1),df.price)"
      ]
    },
    {
      "cell_type": "code",
      "execution_count": null,
      "id": "e9e67b2f-4e90-4117-9ba8-71e6d3784ada",
      "metadata": {
        "id": "e9e67b2f-4e90-4117-9ba8-71e6d3784ada",
        "outputId": "e9cfb47e-eaaa-41f2-c75d-6514021e2c3f"
      },
      "outputs": [
        {
          "data": {
            "text/plain": [
              "array([618748.66891723])"
            ]
          },
          "execution_count": 33,
          "metadata": {},
          "output_type": "execute_result"
        }
      ],
      "source": [
        "model.predict([[3000,4,10]])"
      ]
    },
    {
      "cell_type": "code",
      "execution_count": null,
      "id": "38ece29e-30d1-475f-9ac1-78cfb2aaf280",
      "metadata": {
        "id": "38ece29e-30d1-475f-9ac1-78cfb2aaf280",
        "outputId": "065a1ba9-79a9-42c1-e54e-2791c241675c"
      },
      "outputs": [
        {
          "data": {
            "text/plain": [
              "array([  112.06244194, 23388.88007794, -3231.71790863])"
            ]
          },
          "execution_count": 34,
          "metadata": {},
          "output_type": "execute_result"
        }
      ],
      "source": [
        "model.coef_"
      ]
    },
    {
      "cell_type": "code",
      "execution_count": null,
      "id": "2588ccd9-34f5-4833-8e92-79fec74568bf",
      "metadata": {
        "id": "2588ccd9-34f5-4833-8e92-79fec74568bf",
        "outputId": "f2301cbc-39a2-4101-aa7b-c42d9d0f66f7"
      },
      "outputs": [
        {
          "data": {
            "text/plain": [
              "221323.00186540384"
            ]
          },
          "execution_count": 35,
          "metadata": {},
          "output_type": "execute_result"
        }
      ],
      "source": [
        "model.intercept_"
      ]
    },
    {
      "cell_type": "code",
      "execution_count": null,
      "id": "29bfe12a-cba3-4df3-9bf5-bdb7bb245511",
      "metadata": {
        "id": "29bfe12a-cba3-4df3-9bf5-bdb7bb245511",
        "outputId": "95e641ae-5a72-4fda-84a4-c8d2b58e7eaf"
      },
      "outputs": [
        {
          "data": {
            "text/plain": [
              "array([371234.90495503])"
            ]
          },
          "execution_count": 39,
          "metadata": {},
          "output_type": "execute_result"
        }
      ],
      "source": [
        "model.predict([[1000,3,10]])"
      ]
    },
    {
      "cell_type": "code",
      "execution_count": null,
      "id": "d8272f2a-90d0-4bd2-89fa-1123a287da15",
      "metadata": {
        "id": "d8272f2a-90d0-4bd2-89fa-1123a287da15"
      },
      "outputs": [],
      "source": [
        ""
      ]
    },
    {
      "cell_type": "code",
      "execution_count": null,
      "id": "ac34432d-6b84-4408-9f88-1108f54fbc4b",
      "metadata": {
        "id": "ac34432d-6b84-4408-9f88-1108f54fbc4b"
      },
      "outputs": [],
      "source": [
        ""
      ]
    }
  ],
  "metadata": {
    "kernelspec": {
      "display_name": "Python 3",
      "language": "python",
      "name": "python3"
    },
    "language_info": {
      "codemirror_mode": {
        "name": "ipython",
        "version": 3
      },
      "file_extension": ".py",
      "mimetype": "text/x-python",
      "name": "python",
      "nbconvert_exporter": "python",
      "pygments_lexer": "ipython3",
      "version": "3.8.8"
    },
    "colab": {
      "name": "Machine Learning.ipynb",
      "provenance": [],
      "include_colab_link": true
    }
  },
  "nbformat": 4,
  "nbformat_minor": 5
}